{
 "cells": [
  {
   "cell_type": "markdown",
   "id": "15ac3e24-b2f5-4a4d-8cdc-1e10d80f06a0",
   "metadata": {},
   "source": [
    "# ants n bees readme #\n",
    "\n",
    "In this tutorial, I learn to identify ants and bees using torchvision."
   ]
  },
  {
   "cell_type": "code",
   "execution_count": 1,
   "id": "ec2c9bb9-51b9-4fdc-b7c6-dec90b1a1e57",
   "metadata": {
    "tags": []
   },
   "outputs": [
    {
     "name": "stdout",
     "output_type": "stream",
     "text": [
      "[jupytext] Reading readme_antsnbees.ipynb in format ipynb\n",
      "[jupytext] Writing readme_antsnbees.md\n"
     ]
    }
   ],
   "source": [
    "!jupytext --to markdown readme_antsnbees.ipynb"
   ]
  },
  {
   "cell_type": "code",
   "execution_count": null,
   "id": "c667d91c-5e8b-4a32-94c9-e6f1cf5d129d",
   "metadata": {},
   "outputs": [],
   "source": []
  }
 ],
 "metadata": {
  "kernelspec": {
   "display_name": "Python 3 (ipykernel)",
   "language": "python",
   "name": "python3"
  },
  "language_info": {
   "codemirror_mode": {
    "name": "ipython",
    "version": 3
   },
   "file_extension": ".py",
   "mimetype": "text/x-python",
   "name": "python",
   "nbconvert_exporter": "python",
   "pygments_lexer": "ipython3",
   "version": "3.11.4"
  }
 },
 "nbformat": 4,
 "nbformat_minor": 5
}
