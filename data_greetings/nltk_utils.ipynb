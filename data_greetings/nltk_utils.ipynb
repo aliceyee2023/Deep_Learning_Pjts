{
 "cells": [
  {
   "cell_type": "code",
   "execution_count": 1,
   "id": "a3b7e354-26d9-49cf-875f-5b116635d070",
   "metadata": {
    "tags": []
   },
   "outputs": [],
   "source": [
    "# greeting_chatbot\n",
    "import nltk\n",
    "#nltk.download('punkt')\n",
    "from nltk.stem.porter import PorterStemmer\n",
    "stemmer = PorterStemmer()\n",
    "\n",
    "def tokenize(sentence):\n",
    "    return nltk.word_token(sentence)\n",
    "\n",
    "def stem(word):\n",
    "    return stemmer.stem(word.lower())\n",
    "\n",
    "def bag_of_words(tokenized_sentence, all_words):\n",
    "      pass\n",
    "      words = [\"Organize\", \"organizes\", \"organizing\"]\n",
    "      stemmed_words = [stem(w) for w in words]\n",
    "      print(stemmed_words)"
   ]
  },
  {
   "cell_type": "code",
   "execution_count": null,
   "id": "285ec44f-67fc-464c-9ab5-899aa3610ccb",
   "metadata": {},
   "outputs": [],
   "source": []
  },
  {
   "cell_type": "code",
   "execution_count": null,
   "id": "03907e7d-2c6c-471b-8b65-b20c35657c9b",
   "metadata": {},
   "outputs": [],
   "source": []
  }
 ],
 "metadata": {
  "kernelspec": {
   "display_name": "Python 3 (ipykernel)",
   "language": "python",
   "name": "python3"
  },
  "language_info": {
   "codemirror_mode": {
    "name": "ipython",
    "version": 3
   },
   "file_extension": ".py",
   "mimetype": "text/x-python",
   "name": "python",
   "nbconvert_exporter": "python",
   "pygments_lexer": "ipython3",
   "version": "3.11.4"
  }
 },
 "nbformat": 4,
 "nbformat_minor": 5
}
