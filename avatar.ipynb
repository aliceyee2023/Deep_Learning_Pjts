{
 "cells": [
  {
   "cell_type": "code",
   "execution_count": 7,
   "id": "9a59efb5-f631-460e-8b8d-dcc0847b7663",
   "metadata": {
    "tags": []
   },
   "outputs": [
    {
     "name": "stdout",
     "output_type": "stream",
     "text": [
      "Requirement already satisfied: opencv-python in c:\\users\\msyee\\anaconda3\\lib\\site-packages (4.8.1.78)\n",
      "Requirement already satisfied: numpy>=1.21.2 in c:\\users\\msyee\\anaconda3\\lib\\site-packages (from opencv-python) (1.24.3)\n",
      "Requirement already satisfied: dlib in c:\\users\\msyee\\anaconda3\\lib\\site-packages (19.24.2)\n",
      "Requirement already satisfied: pyautogui in c:\\users\\msyee\\anaconda3\\lib\\site-packages (0.9.54)\n",
      "Requirement already satisfied: pymsgbox in c:\\users\\msyee\\anaconda3\\lib\\site-packages (from pyautogui) (1.0.9)\n",
      "Requirement already satisfied: pytweening>=1.0.4 in c:\\users\\msyee\\anaconda3\\lib\\site-packages (from pyautogui) (1.0.7)\n",
      "Requirement already satisfied: pyscreeze>=0.1.21 in c:\\users\\msyee\\anaconda3\\lib\\site-packages (from pyautogui) (0.1.30)\n",
      "Requirement already satisfied: pygetwindow>=0.0.5 in c:\\users\\msyee\\anaconda3\\lib\\site-packages (from pyautogui) (0.0.9)\n",
      "Requirement already satisfied: mouseinfo in c:\\users\\msyee\\anaconda3\\lib\\site-packages (from pyautogui) (0.1.3)\n",
      "Requirement already satisfied: pyrect in c:\\users\\msyee\\anaconda3\\lib\\site-packages (from pygetwindow>=0.0.5->pyautogui) (0.2.0)\n",
      "Requirement already satisfied: Pillow>=9.3.0 in c:\\users\\msyee\\anaconda3\\lib\\site-packages (from pyscreeze>=0.1.21->pyautogui) (9.4.0)\n",
      "Requirement already satisfied: pyperclip in c:\\users\\msyee\\anaconda3\\lib\\site-packages (from mouseinfo->pyautogui) (1.8.2)\n",
      "Requirement already satisfied: pygame in c:\\users\\msyee\\anaconda3\\lib\\site-packages (2.5.2)\n"
     ]
    }
   ],
   "source": [
    "!pip install opencv-python\n",
    "!pip install dlib\n",
    "!pip install pyautogui\n",
    "!pip install pygame"
   ]
  },
  {
   "cell_type": "code",
   "execution_count": 8,
   "id": "903d4d59-9905-435a-8461-85cf6ba15b92",
   "metadata": {
    "tags": []
   },
   "outputs": [
    {
     "name": "stdout",
     "output_type": "stream",
     "text": [
      "Requirement already satisfied: cmake in c:\\users\\msyee\\anaconda3\\lib\\site-packages (3.28.1)\n"
     ]
    }
   ],
   "source": [
    "!pip install cmake"
   ]
  },
  {
   "cell_type": "code",
   "execution_count": 9,
   "id": "f41becc3-fef9-4ee9-801a-04af3c88cde4",
   "metadata": {
    "tags": []
   },
   "outputs": [
    {
     "name": "stdout",
     "output_type": "stream",
     "text": [
      "Requirement already satisfied: dlib in c:\\users\\msyee\\anaconda3\\lib\\site-packages (19.24.2)\n"
     ]
    }
   ],
   "source": [
    "!pip install dlib"
   ]
  },
  {
   "cell_type": "markdown",
   "id": "e981a687-9649-4388-84cb-cbbe6c530aea",
   "metadata": {},
   "source": [
    "## Collect the Data ##"
   ]
  },
  {
   "cell_type": "code",
   "execution_count": 1,
   "id": "728aeaa1-fb52-4c95-acb7-aa897513fb70",
   "metadata": {},
   "outputs": [],
   "source": [
    "import cv2\n",
    "\n",
    "# Initialize the camera\n",
    "cam = cv2.VideoCapture(0)\n",
    "\n",
    "# Create a window to display the camera feed\n",
    "cv2.namedWindow(\"Camera Feed\")\n",
    "\n",
    "# Collect the data\n",
    "while True:\n",
    "    # Read a frame from the camera\n",
    "    ret, frame = cam.read()\n",
    "\n",
    "    # Display the frame in the window\n",
    "    cv2.imshow(\"Camera Feed\", frame)\n",
    "\n",
    "    # Press 'q' to exit the loop and stop collecting data\n",
    "    if cv2.waitKey(1) == ord('q'):\n",
    "        break\n",
    "\n",
    "# Release the camera and destroy the window\n",
    "cam.release()\n",
    "cv2.destroyAllWindows()"
   ]
  },
  {
   "cell_type": "markdown",
   "id": "9ecc325a-6051-4e42-9679-a5d43dca77ae",
   "metadata": {},
   "source": [
    "## Train the Machine Learning Algorithm ##"
   ]
  },
  {
   "cell_type": "code",
   "execution_count": 16,
   "id": "f0e97578-f981-491e-a245-eaf5995f5752",
   "metadata": {},
   "outputs": [
    {
     "ename": "SyntaxError",
     "evalue": "invalid syntax (1834893350.py, line 5)",
     "output_type": "error",
     "traceback": [
      "\u001b[1;36m  Cell \u001b[1;32mIn[16], line 5\u001b[1;36m\u001b[0m\n\u001b[1;33m    path = C:\\users\\msyee\\anaconda3\\lib\\site-packages\\\u001b[0m\n\u001b[1;37m            ^\u001b[0m\n\u001b[1;31mSyntaxError\u001b[0m\u001b[1;31m:\u001b[0m invalid syntax\n"
     ]
    }
   ],
   "source": [
    "import dlib\n",
    "import numpy as np\n",
    "\n",
    "detector = dlib.get_frontal_face_detector()\n",
    "path = C:\\users\\msyee\\anaconda3\\lib\\site-packages\\\n",
    "predictor = dlib.shape_predictor(\"path\\shape_predictor_68_face_landmarks.dat\")\n",
    "\n",
    "# Initialize the array to store the data\n",
    "data = []\n",
    "\n",
    "# Collect the data\n",
    "while True:\n",
    "    # Read a frame from the camera\n",
    "    ret, frame = cam.read()\n",
    "\n",
    "    # Convert the frame to grayscale\n",
    "    gray = cv2.cvtColor(frame, cv2.COLOR_BGR2GRAY)\n",
    "\n",
    "    # Detect faces in the grayscale frame\n",
    "    faces = detector(gray)\n",
    "\n",
    "    # Loop over the faces and detect facial landmarks\n",
    "    for face in faces:\n",
    "        landmarks = predictor(gray, face)\n",
    "\n",
    "        # Extract the x, y coordinates of the facial landmarks\n",
    "        coords = np.zeros((68, 2), dtype=int)\n",
    "        for i in range(68):\n",
    "            coords[i] = (landmarks.part(i).x, landmarks.part(i).y)\n",
    "\n",
    "        # Append the coordinates to the data array\n",
    "        data.append(coords)\n",
    "\n",
    "        # Draw the facial landmarks on the frame\n",
    "        for (x, y) in coords:\n",
    "            cv2.circle(frame, (x, y), 2, (0, 255, 0), -1)\n",
    "\n",
    "    # Display the frame in the window\n",
    "    cv2.imshow(\"Camera Feed\", frame)\n",
    "\n",
    "    # Press 'q' to exit the loop and stop collecting data\n",
    "    if cv2.waitKey(1) == ord('q'):\n",
    "        break\n",
    "\n",
    "# Release the camera and destroy the window\n",
    "cam.release()\n",
    "cv2.destroyAllWindows()\n",
    "\n",
    "# Convert the data array to a NumPy array and save it to a file\n",
    "data = np.array(data)\n",
    "np.save(\"data.npy\", data)"
   ]
  },
  {
   "cell_type": "markdown",
   "id": "059cea14-aa8d-4edb-b198-dc5668cce225",
   "metadata": {},
   "source": [
    "## Create the Animation ##"
   ]
  },
  {
   "cell_type": "code",
   "execution_count": 3,
   "id": "2694e40b-6a2d-46f8-9a76-285adeebd85c",
   "metadata": {},
   "outputs": [
    {
     "name": "stdout",
     "output_type": "stream",
     "text": [
      "pygame 2.5.2 (SDL 2.28.3, Python 3.11.4)\n",
      "Hello from the pygame community. https://www.pygame.org/contribute.html\n"
     ]
    },
    {
     "ename": "FileNotFoundError",
     "evalue": "[Errno 2] No such file or directory: 'data.npy'",
     "output_type": "error",
     "traceback": [
      "\u001b[1;31m---------------------------------------------------------------------------\u001b[0m",
      "\u001b[1;31mFileNotFoundError\u001b[0m                         Traceback (most recent call last)",
      "Cell \u001b[1;32mIn[3], line 5\u001b[0m\n\u001b[0;32m      2\u001b[0m \u001b[38;5;28;01mimport\u001b[39;00m \u001b[38;5;21;01mnumpy\u001b[39;00m \u001b[38;5;28;01mas\u001b[39;00m \u001b[38;5;21;01mnp\u001b[39;00m\n\u001b[0;32m      4\u001b[0m \u001b[38;5;66;03m# Load the data from the file\u001b[39;00m\n\u001b[1;32m----> 5\u001b[0m data \u001b[38;5;241m=\u001b[39m np\u001b[38;5;241m.\u001b[39mload(\u001b[38;5;124m\"\u001b[39m\u001b[38;5;124mdata.npy\u001b[39m\u001b[38;5;124m\"\u001b[39m)\n\u001b[0;32m      7\u001b[0m \u001b[38;5;66;03m# Initialize Pygame\u001b[39;00m\n\u001b[0;32m      8\u001b[0m pygame\u001b[38;5;241m.\u001b[39minit()\n",
      "File \u001b[1;32m~\\anaconda3\\Lib\\site-packages\\numpy\\lib\\npyio.py:405\u001b[0m, in \u001b[0;36mload\u001b[1;34m(file, mmap_mode, allow_pickle, fix_imports, encoding, max_header_size)\u001b[0m\n\u001b[0;32m    403\u001b[0m     own_fid \u001b[38;5;241m=\u001b[39m \u001b[38;5;28;01mFalse\u001b[39;00m\n\u001b[0;32m    404\u001b[0m \u001b[38;5;28;01melse\u001b[39;00m:\n\u001b[1;32m--> 405\u001b[0m     fid \u001b[38;5;241m=\u001b[39m stack\u001b[38;5;241m.\u001b[39menter_context(\u001b[38;5;28mopen\u001b[39m(os_fspath(file), \u001b[38;5;124m\"\u001b[39m\u001b[38;5;124mrb\u001b[39m\u001b[38;5;124m\"\u001b[39m))\n\u001b[0;32m    406\u001b[0m     own_fid \u001b[38;5;241m=\u001b[39m \u001b[38;5;28;01mTrue\u001b[39;00m\n\u001b[0;32m    408\u001b[0m \u001b[38;5;66;03m# Code to distinguish from NumPy binary files and pickles.\u001b[39;00m\n",
      "\u001b[1;31mFileNotFoundError\u001b[0m: [Errno 2] No such file or directory: 'data.npy'"
     ]
    }
   ],
   "source": [
    "import pygame\n",
    "import numpy as np\n",
    "\n",
    "# Load the data from the file\n",
    "data = np.load(\"data.npy\")\n",
    "\n",
    "# Initialize Pygame\n",
    "pygame.init()\n",
    "\n",
    "# Set the dimensions of the window\n",
    "WINDOW_WIDTH = 640\n",
    "WINDOW_HEIGHT = 480\n",
    "screen = pygame.display.set_mode((WINDOW_WIDTH, WINDOW_HEIGHT))\n",
    "\n",
    "# Set the dimensions of the avatar\n",
    "AVATAR_WIDTH = 150\n",
    "AVATAR_HEIGHT = 200\n",
    "\n",
    "# Load the avatar image and scale it to the appropriate size\n",
    "avatar = pygame.image.load(\"avatar.png\")\n",
    "avatar = pygame.transform.scale(avatar, (AVATAR_WIDTH, AVATAR_HEIGHT))\n",
    "\n",
    "# Set the initial position of the avatar\n",
    "x = WINDOW_WIDTH // 2 - AVATAR_WIDTH // 2\n",
    "y = WINDOW_HEIGHT // 2 - AVATAR_HEIGHT // 2\n",
    "\n",
    "# Set the maximum and minimum movement distances\n",
    "MAX_MOVE = 50\n",
    "MIN_MOVE = 5\n",
    "\n",
    "# Set the movement speed\n",
    "SPEED = 5\n",
    "\n",
    "# Create a clock to control the frame rate\n",
    "clock = pygame.time.Clock()\n",
    "\n",
    "# Loop over the data and animate the avatar\n",
    "for i in range(len(data)):\n",
    "    # Clear the screen\n",
    "    screen.fill((255, 255, 255))\n",
    "\n",
    "    # Draw the avatar at the current position\n",
    "    screen.blit(avatar, (x, y))\n",
    "\n",
    "    # Calculate the movement distance\n",
    "    dx = data[i][30][0] - data[i][27][0]\n",
    "    dy = data[i][30][1] - data[i][27][1]\n",
    "    distance = np.sqrt(dx**2 + dy**2)\n",
    "\n",
    "    # Normalize the movement distance\n",
    "    move = (distance - MIN_MOVE) / (MAX_MOVE - MIN_MOVE)\n",
    "    move = min(max(move, 0), 1)\n",
    "\n",
    "    # Calculate the new position of the avatar\n",
    "    new_x = x + int(dx * move * SPEED)\n",
    "    new_y = y + int(dy * move * SPEED)\n",
    "\n",
    "    # Set the new position of the avatar\n",
    "    x = min(max(new_x, 0), WINDOW_WIDTH - AVATAR_WIDTH)\n",
    "    y = min(max(new_y, 0), WINDOW_HEIGHT - AVATAR_HEIGHT)\n",
    "\n",
    "    # Update the display\n",
    "    pygame.display.flip()\n",
    "\n",
    "    # Control the frame rate\n",
    "    clock.tick(30)"
   ]
  },
  {
   "cell_type": "markdown",
   "id": "fe6ca274-61a4-41f5-b8eb-1f714653be79",
   "metadata": {},
   "source": [
    "## Control the animation using facial expression ##"
   ]
  },
  {
   "cell_type": "code",
   "execution_count": 18,
   "id": "3145b70d-975f-4f46-9264-ca4b06f5d6d3",
   "metadata": {},
   "outputs": [
    {
     "ename": "FileNotFoundError",
     "evalue": "[Errno 2] No such file or directory: 'data.npy'",
     "output_type": "error",
     "traceback": [
      "\u001b[1;31m---------------------------------------------------------------------------\u001b[0m",
      "\u001b[1;31mFileNotFoundError\u001b[0m                         Traceback (most recent call last)",
      "Cell \u001b[1;32mIn[18], line 6\u001b[0m\n\u001b[0;32m      3\u001b[0m \u001b[38;5;28;01mimport\u001b[39;00m \u001b[38;5;21;01mpyautogui\u001b[39;00m\n\u001b[0;32m      5\u001b[0m \u001b[38;5;66;03m# Load the data from the file\u001b[39;00m\n\u001b[1;32m----> 6\u001b[0m data \u001b[38;5;241m=\u001b[39m np\u001b[38;5;241m.\u001b[39mload(\u001b[38;5;124m\"\u001b[39m\u001b[38;5;124mdata.npy\u001b[39m\u001b[38;5;124m\"\u001b[39m)\n\u001b[0;32m      8\u001b[0m \u001b[38;5;66;03m# Initialize Pygame\u001b[39;00m\n\u001b[0;32m      9\u001b[0m pygame\u001b[38;5;241m.\u001b[39minit()\n",
      "File \u001b[1;32m~\\anaconda3\\Lib\\site-packages\\numpy\\lib\\npyio.py:405\u001b[0m, in \u001b[0;36mload\u001b[1;34m(file, mmap_mode, allow_pickle, fix_imports, encoding, max_header_size)\u001b[0m\n\u001b[0;32m    403\u001b[0m     own_fid \u001b[38;5;241m=\u001b[39m \u001b[38;5;28;01mFalse\u001b[39;00m\n\u001b[0;32m    404\u001b[0m \u001b[38;5;28;01melse\u001b[39;00m:\n\u001b[1;32m--> 405\u001b[0m     fid \u001b[38;5;241m=\u001b[39m stack\u001b[38;5;241m.\u001b[39menter_context(\u001b[38;5;28mopen\u001b[39m(os_fspath(file), \u001b[38;5;124m\"\u001b[39m\u001b[38;5;124mrb\u001b[39m\u001b[38;5;124m\"\u001b[39m))\n\u001b[0;32m    406\u001b[0m     own_fid \u001b[38;5;241m=\u001b[39m \u001b[38;5;28;01mTrue\u001b[39;00m\n\u001b[0;32m    408\u001b[0m \u001b[38;5;66;03m# Code to distinguish from NumPy binary files and pickles.\u001b[39;00m\n",
      "\u001b[1;31mFileNotFoundError\u001b[0m: [Errno 2] No such file or directory: 'data.npy'"
     ]
    }
   ],
   "source": [
    "import pygame\n",
    "import numpy as np\n",
    "import pyautogui\n",
    "\n",
    "# Load the data from the file\n",
    "data = np.load(\"data.npy\")\n",
    "\n",
    "# Initialize Pygame\n",
    "pygame.init()\n",
    "\n",
    "# Set the dimensions of the window\n",
    "WINDOW_WIDTH = 640\n",
    "WINDOW_HEIGHT = 480\n",
    "screen = pygame.display.set_mode((WINDOW_WIDTH, WINDOW_HEIGHT))\n",
    "\n",
    "# Set the dimensions of the avatar\n",
    "AVATAR_WIDTH = 150\n",
    "AVATAR_HEIGHT = 200\n",
    "\n",
    "# Load the avatar image and scale it to the appropriate size\n",
    "avatar = pygame.image.load(\"avatar.png\")\n",
    "avatar = pygame.transform.scale(avatar, (AVATAR_WIDTH, AVATAR_HEIGHT))\n",
    "\n",
    "# Set the initial position of the avatar\n",
    "x = WINDOW_WIDTH // 2 - AVATAR_WIDTH // 2\n",
    "y = WINDOW_HEIGHT // 2 - AVATAR_HEIGHT // 2\n",
    "\n",
    "# Set the maximum and minimum movement distances\n",
    "MAX_MOVE = 50\n",
    "MIN_MOVE = 5\n",
    "\n",
    "# Set the movement speed\n",
    "SPEED = 5\n",
    "\n",
    "# Create a clock to control the frame rate\n",
    "clock = pygame.time.Clock()\n",
    "\n",
    "# Loop over the data and animate the avatar\n",
    "for i in range(len(data)):\n",
    "    # Clear the screen\n",
    "    screen.fill((255, 255, 255))\n",
    "\n",
    "    # Draw the avatar at the current position\n",
    "    screen.blit(avatar, (x, y))\n",
    "\n",
    "    # Calculate the movement distance\n",
    "    dx = data[i][30][0] - data[i][27][0]\n",
    "    dy = data[i][30][1] - data[i][27][1]\n",
    "    distance = np.sqrt(dx**2 + dy**2)\n",
    "\n",
    "    # Normalize the movement distance\n",
    "    move = (distance - MIN_MOVE) / (MAX_MOVE - MIN_MOVE)\n",
    "    move = min(max(move, 0), 1)\n",
    "\n",
    "    # Calculate the new position of the avatar\n",
    "    new_x = x + int(dx * move * SPEED)\n",
    "    new_y = y + int(dy * move * SPEED)\n",
    "\n",
    "    # Set the new position of the avatar\n",
    "    x = min(max(new_x, 0), WINDOW_WIDTH - AVATAR_WIDTH)\n",
    "    y = min(max(new_y, 0), WINDOW_HEIGHT - AVATAR_HEIGHT)\n",
    "\n",
    "    # Update the display\n",
    "    pygame.display.flip()\n",
    "\n",
    "    # Control the frame rate\n",
    "    clock.tick(30)\n",
    "\n",
    "    # Get the facial expression\n",
    "    smile_ratio = (data[i][51][1] - data[i][57][1]) / (data[i][50][0] - data[i][44][0])\n",
    "\n",
    "    # Control the movement of the avatar based on the facial expression\n",
    "    if smile_ratio > 0.5:\n",
    "        pyautogui.moveRel(10, 0, duration=0.1)\n",
    "    elif smile_ratio < 0.2:\n",
    "        pyautogui.moveRel(-10, 0, duration=0.1)"
   ]
  },
  {
   "cell_type": "code",
   "execution_count": null,
   "id": "4a23d744-060f-4c20-a6b2-eafa1e28e512",
   "metadata": {},
   "outputs": [],
   "source": []
  }
 ],
 "metadata": {
  "kernelspec": {
   "display_name": "Python 3 (ipykernel)",
   "language": "python",
   "name": "python3"
  },
  "language_info": {
   "codemirror_mode": {
    "name": "ipython",
    "version": 3
   },
   "file_extension": ".py",
   "mimetype": "text/x-python",
   "name": "python",
   "nbconvert_exporter": "python",
   "pygments_lexer": "ipython3",
   "version": "3.11.4"
  }
 },
 "nbformat": 4,
 "nbformat_minor": 5
}
