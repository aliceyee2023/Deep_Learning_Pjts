{
 "cells": [
  {
   "cell_type": "code",
   "execution_count": 6,
   "id": "bc9ce904-19ee-45a3-a7c5-c2c9bdf62837",
   "metadata": {
    "tags": []
   },
   "outputs": [],
   "source": [
    "import yfinance as yf\n",
    "import pandas as pd\n",
    "import numpy as np\n",
    "from sklearn.preprocessing import MinMaxScaler\n",
    "from sklearn.metrics import mean_squared_error\n",
    "from tensorflow.keras.models import Sequential\n",
    "from tensorflow.keras.layers import LSTM, Dense\n"
   ]
  },
  {
   "cell_type": "code",
   "execution_count": 4,
   "id": "941a1d70-22a9-454f-9ad7-8b51a1dd2f43",
   "metadata": {
    "tags": []
   },
   "outputs": [
    {
     "name": "stdout",
     "output_type": "stream",
     "text": [
      "Collecting yfinance\n",
      "  Obtaining dependency information for yfinance from https://files.pythonhosted.org/packages/1b/0f/77716aa9dd84bb1aa5e93c87122af1de89697b6231f6d01d58d4e7c03c14/yfinance-0.2.36-py2.py3-none-any.whl.metadata\n",
      "  Downloading yfinance-0.2.36-py2.py3-none-any.whl.metadata (11 kB)\n",
      "Requirement already satisfied: pandas>=1.3.0 in c:\\users\\msyee\\anaconda3\\lib\\site-packages (from yfinance) (1.5.3)\n",
      "Requirement already satisfied: numpy>=1.16.5 in c:\\users\\msyee\\anaconda3\\lib\\site-packages (from yfinance) (1.24.3)\n",
      "Requirement already satisfied: requests>=2.31 in c:\\users\\msyee\\anaconda3\\lib\\site-packages (from yfinance) (2.31.0)\n",
      "Collecting multitasking>=0.0.7 (from yfinance)\n",
      "  Downloading multitasking-0.0.11-py3-none-any.whl (8.5 kB)\n",
      "Requirement already satisfied: lxml>=4.9.1 in c:\\users\\msyee\\anaconda3\\lib\\site-packages (from yfinance) (4.9.2)\n",
      "Requirement already satisfied: appdirs>=1.4.4 in c:\\users\\msyee\\anaconda3\\lib\\site-packages (from yfinance) (1.4.4)\n",
      "Requirement already satisfied: pytz>=2022.5 in c:\\users\\msyee\\anaconda3\\lib\\site-packages (from yfinance) (2022.7)\n",
      "Collecting frozendict>=2.3.4 (from yfinance)\n",
      "  Downloading frozendict-2.4.0.tar.gz (314 kB)\n",
      "     ---------------------------------------- 0.0/314.6 kB ? eta -:--:--\n",
      "     ------- ------------------------------- 61.4/314.6 kB 1.1 MB/s eta 0:00:01\n",
      "     -------------- ----------------------- 122.9/314.6 kB 1.2 MB/s eta 0:00:01\n",
      "     ------------------- ------------------ 163.8/314.6 kB 1.1 MB/s eta 0:00:01\n",
      "     --------------------------- ---------- 225.3/314.6 kB 1.3 MB/s eta 0:00:01\n",
      "     --------------------------- ---------- 225.3/314.6 kB 1.3 MB/s eta 0:00:01\n",
      "     ------------------------------ ----- 266.2/314.6 kB 962.4 kB/s eta 0:00:01\n",
      "     ------------------------------------ 314.6/314.6 kB 972.3 kB/s eta 0:00:00\n",
      "  Installing build dependencies: started\n",
      "  Installing build dependencies: finished with status 'done'\n",
      "  Getting requirements to build wheel: started\n",
      "  Getting requirements to build wheel: finished with status 'done'\n",
      "  Preparing metadata (pyproject.toml): started\n",
      "  Preparing metadata (pyproject.toml): finished with status 'done'\n",
      "Collecting peewee>=3.16.2 (from yfinance)\n",
      "  Downloading peewee-3.17.0.tar.gz (2.9 MB)\n",
      "     ---------------------------------------- 0.0/2.9 MB ? eta -:--:--\n",
      "     ---------------------------------------- 0.0/2.9 MB ? eta -:--:--\n",
      "      --------------------------------------- 0.1/2.9 MB 3.4 MB/s eta 0:00:01\n",
      "     - -------------------------------------- 0.1/2.9 MB 1.8 MB/s eta 0:00:02\n",
      "     - -------------------------------------- 0.1/2.9 MB 1.4 MB/s eta 0:00:02\n",
      "     -- ------------------------------------- 0.2/2.9 MB 1.2 MB/s eta 0:00:03\n",
      "     -- ------------------------------------- 0.2/2.9 MB 1.0 MB/s eta 0:00:03\n",
      "     -- ------------------------------------- 0.2/2.9 MB 1.0 MB/s eta 0:00:03\n",
      "     --- ------------------------------------ 0.3/2.9 MB 983.0 kB/s eta 0:00:03\n",
      "     --- ------------------------------------ 0.3/2.9 MB 899.5 kB/s eta 0:00:03\n",
      "     ---- ----------------------------------- 0.3/2.9 MB 865.8 kB/s eta 0:00:04\n",
      "     ---- ----------------------------------- 0.3/2.9 MB 873.8 kB/s eta 0:00:03\n",
      "     ----- ---------------------------------- 0.4/2.9 MB 851.3 kB/s eta 0:00:04\n",
      "     ----- ---------------------------------- 0.4/2.9 MB 809.6 kB/s eta 0:00:04\n",
      "     ----- ---------------------------------- 0.4/2.9 MB 787.7 kB/s eta 0:00:04\n",
      "     ----- ---------------------------------- 0.4/2.9 MB 787.7 kB/s eta 0:00:04\n",
      "     ------ --------------------------------- 0.5/2.9 MB 770.0 kB/s eta 0:00:04\n",
      "     ------ --------------------------------- 0.5/2.9 MB 770.0 kB/s eta 0:00:04\n",
      "     ------- -------------------------------- 0.5/2.9 MB 760.2 kB/s eta 0:00:04\n",
      "     ------- -------------------------------- 0.6/2.9 MB 755.9 kB/s eta 0:00:04\n",
      "     ------- -------------------------------- 0.6/2.9 MB 749.6 kB/s eta 0:00:04\n",
      "     ------- -------------------------------- 0.6/2.9 MB 749.6 kB/s eta 0:00:04\n",
      "     -------- ------------------------------- 0.6/2.9 MB 727.2 kB/s eta 0:00:04\n",
      "     -------- ------------------------------- 0.6/2.9 MB 727.2 kB/s eta 0:00:04\n",
      "     --------- ------------------------------ 0.7/2.9 MB 721.3 kB/s eta 0:00:04\n",
      "     --------- ------------------------------ 0.7/2.9 MB 708.8 kB/s eta 0:00:04\n",
      "     ---------- ----------------------------- 0.7/2.9 MB 716.3 kB/s eta 0:00:04\n",
      "     ---------- ----------------------------- 0.8/2.9 MB 723.2 kB/s eta 0:00:03\n",
      "     ----------- ---------------------------- 0.8/2.9 MB 747.9 kB/s eta 0:00:03\n",
      "     ----------- ---------------------------- 0.8/2.9 MB 736.6 kB/s eta 0:00:03\n",
      "     ----------- ---------------------------- 0.9/2.9 MB 733.3 kB/s eta 0:00:03\n",
      "     ------------ --------------------------- 0.9/2.9 MB 738.5 kB/s eta 0:00:03\n",
      "     ------------- -------------------------- 1.0/2.9 MB 743.4 kB/s eta 0:00:03\n",
      "     ------------- -------------------------- 1.0/2.9 MB 741.5 kB/s eta 0:00:03\n",
      "     -------------- ------------------------- 1.0/2.9 MB 753.5 kB/s eta 0:00:03\n",
      "     -------------- ------------------------- 1.1/2.9 MB 747.0 kB/s eta 0:00:03\n",
      "     -------------- ------------------------- 1.1/2.9 MB 747.0 kB/s eta 0:00:03\n",
      "     --------------- ------------------------ 1.1/2.9 MB 722.0 kB/s eta 0:00:03\n",
      "     --------------- ------------------------ 1.2/2.9 MB 747.3 kB/s eta 0:00:03\n",
      "     ---------------- ----------------------- 1.2/2.9 MB 731.0 kB/s eta 0:00:03\n",
      "     ---------------- ----------------------- 1.2/2.9 MB 735.8 kB/s eta 0:00:03\n",
      "     ---------------- ----------------------- 1.2/2.9 MB 715.2 kB/s eta 0:00:03\n",
      "     ----------------- ---------------------- 1.3/2.9 MB 725.2 kB/s eta 0:00:03\n",
      "     ----------------- ---------------------- 1.3/2.9 MB 724.1 kB/s eta 0:00:03\n",
      "     ----------------- ---------------------- 1.3/2.9 MB 717.0 kB/s eta 0:00:03\n",
      "     ------------------ --------------------- 1.4/2.9 MB 715.2 kB/s eta 0:00:03\n",
      "     ------------------ --------------------- 1.4/2.9 MB 702.4 kB/s eta 0:00:03\n",
      "     ------------------ --------------------- 1.4/2.9 MB 702.4 kB/s eta 0:00:03\n",
      "     ------------------- -------------------- 1.4/2.9 MB 700.7 kB/s eta 0:00:03\n",
      "     ------------------- -------------------- 1.4/2.9 MB 700.7 kB/s eta 0:00:03\n",
      "     ------------------- -------------------- 1.5/2.9 MB 674.7 kB/s eta 0:00:03\n",
      "     -------------------- ------------------- 1.5/2.9 MB 679.2 kB/s eta 0:00:03\n",
      "     -------------------- ------------------- 1.5/2.9 MB 669.2 kB/s eta 0:00:03\n",
      "     -------------------- ------------------- 1.5/2.9 MB 668.9 kB/s eta 0:00:03\n",
      "     --------------------- ------------------ 1.6/2.9 MB 664.2 kB/s eta 0:00:03\n",
      "     --------------------- ------------------ 1.6/2.9 MB 664.3 kB/s eta 0:00:03\n",
      "     --------------------- ------------------ 1.6/2.9 MB 655.4 kB/s eta 0:00:03\n",
      "     --------------------- ------------------ 1.6/2.9 MB 655.5 kB/s eta 0:00:03\n",
      "     --------------------- ------------------ 1.6/2.9 MB 647.2 kB/s eta 0:00:03\n",
      "     ---------------------- ----------------- 1.6/2.9 MB 643.3 kB/s eta 0:00:03\n",
      "     ---------------------- ----------------- 1.6/2.9 MB 639.5 kB/s eta 0:00:03\n",
      "     ---------------------- ----------------- 1.7/2.9 MB 635.8 kB/s eta 0:00:03\n",
      "     ----------------------- ---------------- 1.7/2.9 MB 636.1 kB/s eta 0:00:02\n",
      "     ----------------------- ---------------- 1.7/2.9 MB 636.1 kB/s eta 0:00:02\n",
      "     ----------------------- ---------------- 1.7/2.9 MB 629.2 kB/s eta 0:00:02\n",
      "     ----------------------- ---------------- 1.8/2.9 MB 626.0 kB/s eta 0:00:02\n",
      "     ------------------------ --------------- 1.8/2.9 MB 622.8 kB/s eta 0:00:02\n",
      "     ------------------------ --------------- 1.8/2.9 MB 616.7 kB/s eta 0:00:02\n",
      "     ------------------------ --------------- 1.8/2.9 MB 610.3 kB/s eta 0:00:02\n",
      "     ------------------------ --------------- 1.8/2.9 MB 607.6 kB/s eta 0:00:02\n",
      "     ------------------------- -------------- 1.9/2.9 MB 608.1 kB/s eta 0:00:02\n",
      "     ------------------------- -------------- 1.9/2.9 MB 602.2 kB/s eta 0:00:02\n",
      "     ------------------------- -------------- 1.9/2.9 MB 602.7 kB/s eta 0:00:02\n",
      "     ------------------------- -------------- 1.9/2.9 MB 597.0 kB/s eta 0:00:02\n",
      "     -------------------------- ------------- 1.9/2.9 MB 592.3 kB/s eta 0:00:02\n",
      "     -------------------------- ------------- 2.0/2.9 MB 593.4 kB/s eta 0:00:02\n",
      "     -------------------------- ------------- 2.0/2.9 MB 588.1 kB/s eta 0:00:02\n",
      "     --------------------------- ------------ 2.0/2.9 MB 588.6 kB/s eta 0:00:02\n",
      "     --------------------------- ------------ 2.0/2.9 MB 589.7 kB/s eta 0:00:02\n",
      "     --------------------------- ------------ 2.0/2.9 MB 584.6 kB/s eta 0:00:02\n",
      "     --------------------------- ------------ 2.1/2.9 MB 585.1 kB/s eta 0:00:02\n",
      "     ---------------------------- ----------- 2.1/2.9 MB 583.3 kB/s eta 0:00:02\n",
      "     ---------------------------- ----------- 2.1/2.9 MB 578.8 kB/s eta 0:00:02\n",
      "     ---------------------------- ----------- 2.1/2.9 MB 579.5 kB/s eta 0:00:02\n",
      "     ----------------------------- ---------- 2.2/2.9 MB 580.7 kB/s eta 0:00:02\n",
      "     ----------------------------- ---------- 2.2/2.9 MB 581.6 kB/s eta 0:00:02\n",
      "     ----------------------------- ---------- 2.2/2.9 MB 581.6 kB/s eta 0:00:02\n",
      "     ------------------------------ --------- 2.2/2.9 MB 585.6 kB/s eta 0:00:02\n",
      "     ------------------------------ --------- 2.3/2.9 MB 581.1 kB/s eta 0:00:02\n",
      "     ------------------------------ --------- 2.3/2.9 MB 581.8 kB/s eta 0:00:02\n",
      "     ------------------------------- -------- 2.3/2.9 MB 575.7 kB/s eta 0:00:02\n",
      "     ------------------------------- -------- 2.3/2.9 MB 576.4 kB/s eta 0:00:02\n",
      "     ------------------------------- -------- 2.3/2.9 MB 572.2 kB/s eta 0:00:02\n",
      "     ------------------------------- -------- 2.4/2.9 MB 570.7 kB/s eta 0:00:02\n",
      "     -------------------------------- ------- 2.4/2.9 MB 568.9 kB/s eta 0:00:02\n",
      "     -------------------------------- ------- 2.4/2.9 MB 570.1 kB/s eta 0:00:01\n",
      "     -------------------------------- ------- 2.4/2.9 MB 570.1 kB/s eta 0:00:01\n",
      "     --------------------------------- ------ 2.4/2.9 MB 566.9 kB/s eta 0:00:01\n",
      "     --------------------------------- ------ 2.4/2.9 MB 557.1 kB/s eta 0:00:01\n",
      "     --------------------------------- ------ 2.5/2.9 MB 560.5 kB/s eta 0:00:01\n",
      "     --------------------------------- ------ 2.5/2.9 MB 558.8 kB/s eta 0:00:01\n",
      "     --------------------------------- ------ 2.5/2.9 MB 558.8 kB/s eta 0:00:01\n",
      "     ---------------------------------- ----- 2.5/2.9 MB 554.1 kB/s eta 0:00:01\n",
      "     ---------------------------------- ----- 2.5/2.9 MB 554.7 kB/s eta 0:00:01\n",
      "     ----------------------------------- ---- 2.6/2.9 MB 550.3 kB/s eta 0:00:01\n",
      "     ----------------------------------- ---- 2.6/2.9 MB 550.3 kB/s eta 0:00:01\n",
      "     ----------------------------------- ---- 2.6/2.9 MB 545.4 kB/s eta 0:00:01\n",
      "     ----------------------------------- ---- 2.6/2.9 MB 544.0 kB/s eta 0:00:01\n",
      "     ----------------------------------- ---- 2.6/2.9 MB 544.8 kB/s eta 0:00:01\n",
      "     ----------------------------------- ---- 2.7/2.9 MB 541.9 kB/s eta 0:00:01\n",
      "     ------------------------------------ --- 2.7/2.9 MB 538.9 kB/s eta 0:00:01\n",
      "     ------------------------------------ --- 2.7/2.9 MB 535.0 kB/s eta 0:00:01\n",
      "     ------------------------------------ --- 2.7/2.9 MB 534.0 kB/s eta 0:00:01\n",
      "     ------------------------------------- -- 2.7/2.9 MB 534.8 kB/s eta 0:00:01\n",
      "     ------------------------------------- -- 2.7/2.9 MB 531.9 kB/s eta 0:00:01\n",
      "     ------------------------------------- -- 2.7/2.9 MB 531.9 kB/s eta 0:00:01\n",
      "     ------------------------------------- -- 2.8/2.9 MB 529.0 kB/s eta 0:00:01\n",
      "     -------------------------------------- - 2.8/2.9 MB 528.2 kB/s eta 0:00:01\n",
      "     -------------------------------------- - 2.8/2.9 MB 527.0 kB/s eta 0:00:01\n",
      "     -------------------------------------- - 2.8/2.9 MB 522.8 kB/s eta 0:00:01\n",
      "     -------------------------------------- - 2.9/2.9 MB 523.6 kB/s eta 0:00:01\n",
      "     -------------------------------------- - 2.9/2.9 MB 521.0 kB/s eta 0:00:01\n",
      "     ---------------------------------------  2.9/2.9 MB 517.3 kB/s eta 0:00:01\n",
      "     ---------------------------------------  2.9/2.9 MB 518.5 kB/s eta 0:00:01\n",
      "     ---------------------------------------  2.9/2.9 MB 519.3 kB/s eta 0:00:01\n",
      "     ---------------------------------------- 2.9/2.9 MB 516.5 kB/s eta 0:00:00\n",
      "  Installing build dependencies: started\n",
      "  Installing build dependencies: finished with status 'done'\n",
      "  Getting requirements to build wheel: started\n",
      "  Getting requirements to build wheel: finished with status 'done'\n",
      "  Preparing metadata (pyproject.toml): started\n",
      "  Preparing metadata (pyproject.toml): finished with status 'done'\n",
      "Requirement already satisfied: beautifulsoup4>=4.11.1 in c:\\users\\msyee\\anaconda3\\lib\\site-packages (from yfinance) (4.12.2)\n",
      "Collecting html5lib>=1.1 (from yfinance)\n",
      "  Downloading html5lib-1.1-py2.py3-none-any.whl (112 kB)\n",
      "     ---------------------------------------- 0.0/112.2 kB ? eta -:--:--\n",
      "     ---------- -------------------------- 30.7/112.2 kB 435.7 kB/s eta 0:00:01\n",
      "     ------------- ----------------------- 41.0/112.2 kB 330.3 kB/s eta 0:00:01\n",
      "     -------------------- ---------------- 61.4/112.2 kB 409.6 kB/s eta 0:00:01\n",
      "     ------------------------------ ------ 92.2/112.2 kB 438.1 kB/s eta 0:00:01\n",
      "     ------------------------------ ------ 92.2/112.2 kB 438.1 kB/s eta 0:00:01\n",
      "     ------------------------------------ 112.2/112.2 kB 384.7 kB/s eta 0:00:00\n",
      "Requirement already satisfied: soupsieve>1.2 in c:\\users\\msyee\\anaconda3\\lib\\site-packages (from beautifulsoup4>=4.11.1->yfinance) (2.4)\n",
      "Requirement already satisfied: six>=1.9 in c:\\users\\msyee\\anaconda3\\lib\\site-packages (from html5lib>=1.1->yfinance) (1.16.0)\n",
      "Requirement already satisfied: webencodings in c:\\users\\msyee\\anaconda3\\lib\\site-packages (from html5lib>=1.1->yfinance) (0.5.1)\n",
      "Requirement already satisfied: python-dateutil>=2.8.1 in c:\\users\\msyee\\anaconda3\\lib\\site-packages (from pandas>=1.3.0->yfinance) (2.8.2)\n",
      "Requirement already satisfied: charset-normalizer<4,>=2 in c:\\users\\msyee\\anaconda3\\lib\\site-packages (from requests>=2.31->yfinance) (2.0.4)\n",
      "Requirement already satisfied: idna<4,>=2.5 in c:\\users\\msyee\\anaconda3\\lib\\site-packages (from requests>=2.31->yfinance) (3.4)\n",
      "Requirement already satisfied: urllib3<3,>=1.21.1 in c:\\users\\msyee\\anaconda3\\lib\\site-packages (from requests>=2.31->yfinance) (1.26.16)\n",
      "Requirement already satisfied: certifi>=2017.4.17 in c:\\users\\msyee\\anaconda3\\lib\\site-packages (from requests>=2.31->yfinance) (2023.7.22)\n",
      "Downloading yfinance-0.2.36-py2.py3-none-any.whl (72 kB)\n",
      "   ---------------------------------------- 0.0/72.4 kB ? eta -:--:--\n",
      "   ---------------------------------------- 0.0/72.4 kB ? eta -:--:--\n",
      "   ---------------- ----------------------- 30.7/72.4 kB 640.0 kB/s eta 0:00:01\n",
      "   ---------------------- ----------------- 41.0/72.4 kB 393.8 kB/s eta 0:00:01\n",
      "   ---------------------------------------- 72.4/72.4 kB 497.3 kB/s eta 0:00:00\n",
      "Building wheels for collected packages: frozendict, peewee\n",
      "  Building wheel for frozendict (pyproject.toml): started\n",
      "  Building wheel for frozendict (pyproject.toml): finished with status 'done'\n",
      "  Created wheel for frozendict: filename=frozendict-2.4.0-py3-none-any.whl size=15471 sha256=4e36b9c9c11823ae4042ab827a4ca0430888446a9c4dfb1f1bf1beb6613877e4\n",
      "  Stored in directory: c:\\users\\msyee\\appdata\\local\\pip\\cache\\wheels\\31\\dd\\81\\a814e6f8cde8a1bbc1f088fdc273943371f10478b91a605e14\n",
      "  Building wheel for peewee (pyproject.toml): started\n",
      "  Building wheel for peewee (pyproject.toml): finished with status 'done'\n",
      "  Created wheel for peewee: filename=peewee-3.17.0-py3-none-any.whl size=135766 sha256=93e9c555d486d201d3acf1a5cfab2e5661e400608388929ec336a6570ffd48d9\n",
      "  Stored in directory: c:\\users\\msyee\\appdata\\local\\pip\\cache\\wheels\\02\\20\\23\\74a10d0cd31f5d41c19b92ddf4c138ceff01b9f4675f19dbf5\n",
      "Successfully built frozendict peewee\n",
      "Installing collected packages: peewee, multitasking, html5lib, frozendict, yfinance\n",
      "Successfully installed frozendict-2.4.0 html5lib-1.1 multitasking-0.0.11 peewee-3.17.0 yfinance-0.2.36\n",
      "Note: you may need to restart the kernel to use updated packages.\n"
     ]
    }
   ],
   "source": [
    "pip install yfinance"
   ]
  },
  {
   "cell_type": "code",
   "execution_count": 8,
   "id": "ad776b0d-1290-4d64-a1e1-0892bedfd4b2",
   "metadata": {
    "tags": []
   },
   "outputs": [
    {
     "name": "stderr",
     "output_type": "stream",
     "text": [
      "[*********************100%%**********************]  1 of 1 completed"
     ]
    },
    {
     "name": "stdout",
     "output_type": "stream",
     "text": [
      "                  Open        High         Low       Close   Adj Close  \\\n",
      "Date                                                                     \n",
      "1980-12-12    0.128348    0.128906    0.128348    0.128348    0.099319   \n",
      "1980-12-15    0.122210    0.122210    0.121652    0.121652    0.094137   \n",
      "1980-12-16    0.113281    0.113281    0.112723    0.112723    0.087228   \n",
      "1980-12-17    0.115513    0.116071    0.115513    0.115513    0.089387   \n",
      "1980-12-18    0.118862    0.119420    0.118862    0.118862    0.091978   \n",
      "...                ...         ...         ...         ...         ...   \n",
      "2024-01-12  186.059998  186.740005  185.190002  185.919998  185.919998   \n",
      "2024-01-16  182.160004  184.259995  180.929993  183.630005  183.630005   \n",
      "2024-01-17  181.270004  182.929993  180.300003  182.679993  182.679993   \n",
      "2024-01-18  186.089996  189.139999  185.830002  188.630005  188.630005   \n",
      "2024-01-19  189.330002  191.949997  188.820007  191.559998  191.559998   \n",
      "\n",
      "               Volume  \n",
      "Date                   \n",
      "1980-12-12  469033600  \n",
      "1980-12-15  175884800  \n",
      "1980-12-16  105728000  \n",
      "1980-12-17   86441600  \n",
      "1980-12-18   73449600  \n",
      "...               ...  \n",
      "2024-01-12   40444700  \n",
      "2024-01-16   65603000  \n",
      "2024-01-17   47317400  \n",
      "2024-01-18   78005800  \n",
      "2024-01-19   68741000  \n",
      "\n",
      "[10866 rows x 6 columns]\n"
     ]
    },
    {
     "name": "stderr",
     "output_type": "stream",
     "text": [
      "\n"
     ]
    }
   ],
   "source": [
    "# Code snippet for getting historical stock data\n",
    "def get_stock_data(symbol):\n",
    "     stock_data - yf.download(symbol, period = \"max\")\n",
    "     return stock_data\n",
    "\n",
    "# Specify stock symbol and date range\n",
    "stock_symbol = 'AAPL'\n",
    "\n",
    "# Fetch historical stock data\n",
    "stock_data = yf.download(stock_symbol, period = \"max\")\n",
    "print(stock_data)\n",
    "                         \n"
   ]
  },
  {
   "cell_type": "code",
   "execution_count": 9,
   "id": "f8bc9800-57b7-4062-b16c-94a1e0e9bf04",
   "metadata": {
    "tags": []
   },
   "outputs": [],
   "source": [
    "# Code snippet for data preprocessing\n",
    "closing_prices = stock_data['Close'].values.reshape(-1,1)\n",
    "    \n",
    "scaler = MinMaxScaler(feature_range =(0,1))\n",
    "closing_prices_scaled = scaler.fit_transform(closing_prices)\n",
    "\n",
    "# Define the prepare_data_function\n",
    "def prepare_data(data, n_steps):\n",
    "    x,y = [], []\n",
    "    for i in range(len(data) - n_steps):\n",
    "        x.append(data[i:(i + n_steps), 0])\n",
    "        y.append(data[i + n_steps, 0])\n",
    "        return np.array(x), np.array(y)\n",
    "    "
   ]
  },
  {
   "cell_type": "code",
   "execution_count": 13,
   "id": "978c8a52-970b-4497-b627-03b1e2c0affa",
   "metadata": {
    "tags": []
   },
   "outputs": [],
   "source": [
    "def create_lstm_model(input_shape):\n",
    "    \"\"\"\n",
    "    Create and compile an LSTM model for time series predictio.\n",
    "    \n",
    "    Parameters: \n",
    "    - input_shape(tuple): Shape of the input data in the form (time_steps, features),\n",
    "    \n",
    "    Returns:\n",
    "    - model (Sequential): Compiled LSTM model.\n",
    "    \"\"\"\n",
    "    model = Sequential()\n",
    "    # Add the first LSTM layer with 50 units and return sequences for the next layer\n",
    "    model.add(LSTM(units = 50, return_sequences = True, input_shape = input_shape))\n",
    "    \n",
    "    # Add the second LSTM layer with 50 units\n",
    "    model.add(LSTM(units = 50))\n",
    "    \n",
    "    # Add a Dense layer with 1 unit with 50 units\n",
    "    model.add(Dense(units =1))\n",
    "    \n",
    "    # Compile the model using the Adam optimizer and Mean Squared Error loss\n",
    "    model.compile(optimizer ='adam', loss = 'mean_squared_error')\n",
    "    \n",
    "    return model"
   ]
  },
  {
   "cell_type": "code",
   "execution_count": 14,
   "id": "7b8f9f4e-e07b-4fd7-b091-3597550f45f0",
   "metadata": {
    "tags": []
   },
   "outputs": [
    {
     "name": "stdout",
     "output_type": "stream",
     "text": [
      "Epoch 1/10\n",
      "1/1 [==============================] - 5s 5s/step - loss: 4.5107e-08\n",
      "Epoch 2/10\n",
      "1/1 [==============================] - 0s 37ms/step - loss: 1.6447e-04\n",
      "Epoch 3/10\n",
      "1/1 [==============================] - 0s 23ms/step - loss: 7.1268e-06\n",
      "Epoch 4/10\n",
      "1/1 [==============================] - 0s 30ms/step - loss: 3.5549e-05\n",
      "Epoch 5/10\n",
      "1/1 [==============================] - 0s 34ms/step - loss: 8.3585e-05\n",
      "Epoch 6/10\n",
      "1/1 [==============================] - 0s 31ms/step - loss: 6.0740e-05\n",
      "Epoch 7/10\n",
      "1/1 [==============================] - 0s 33ms/step - loss: 1.7779e-05\n",
      "Epoch 8/10\n",
      "1/1 [==============================] - 0s 26ms/step - loss: 1.3015e-09\n",
      "Epoch 9/10\n",
      "1/1 [==============================] - 0s 28ms/step - loss: 1.3878e-05\n",
      "Epoch 10/10\n",
      "1/1 [==============================] - 0s 25ms/step - loss: 3.2425e-05\n"
     ]
    },
    {
     "data": {
      "text/plain": [
       "<keras.src.callbacks.History at 0x1e8a637ba10>"
      ]
     },
     "execution_count": 14,
     "metadata": {},
     "output_type": "execute_result"
    }
   ],
   "source": [
    "# Code snipper for creating and traiing the LSTM model\n",
    "n_steps = 60\n",
    "\n",
    "# Prepare the training data using the defined function\n",
    "X_train, y_train = prepare_data(closing_prices_scaled, n_steps)\n",
    "\n",
    "# Reshape the input data to fit the LSTM model\n",
    "X_train = np.reshape(X_train,(X_train.shape[0], X_train.shape[1],1))\n",
    "\n",
    "# Create an instance of the LSTM model\n",
    "model = create_lstm_model((X_train.shape[1],1))\n",
    "\n",
    "# Train the model on the training data\n",
    "model.fit(X_train, y_train, epochs = 10, batch_size = 32)\n"
   ]
  },
  {
   "cell_type": "code",
   "execution_count": 23,
   "id": "3890d650-7f09-4f75-ab24-2f82a790ad37",
   "metadata": {
    "tags": []
   },
   "outputs": [
    {
     "name": "stdout",
     "output_type": "stream",
     "text": [
      "1/1 [==============================] - 0s 51ms/step\n"
     ]
    },
    {
     "ename": "ValueError",
     "evalue": "Found input variables with inconsistent numbers of samples: [10806, 1]",
     "output_type": "error",
     "traceback": [
      "\u001b[1;31m---------------------------------------------------------------------------\u001b[0m",
      "\u001b[1;31mValueError\u001b[0m                                Traceback (most recent call last)",
      "Cell \u001b[1;32mIn[23], line 4\u001b[0m\n\u001b[0;32m      2\u001b[0m train_predictions \u001b[38;5;241m=\u001b[39m model\u001b[38;5;241m.\u001b[39mpredict(X_train)\n\u001b[0;32m      3\u001b[0m train_predictions \u001b[38;5;241m=\u001b[39m scaler\u001b[38;5;241m.\u001b[39minverse_transform(train_predictions)\n\u001b[1;32m----> 4\u001b[0m mse \u001b[38;5;241m=\u001b[39m mean_squared_error(closing_prices[n_steps:], train_predictions)\n\u001b[0;32m      5\u001b[0m \u001b[38;5;28mprint\u001b[39m(\u001b[38;5;124mf\u001b[39m\u001b[38;5;124m'\u001b[39m\u001b[38;5;124mMean Squared Error on Training Data: \u001b[39m\u001b[38;5;132;01m{\u001b[39;00mmse\u001b[38;5;132;01m}\u001b[39;00m\u001b[38;5;124m'\u001b[39m)\n",
      "File \u001b[1;32m~\\anaconda3\\Lib\\site-packages\\sklearn\\metrics\\_regression.py:442\u001b[0m, in \u001b[0;36mmean_squared_error\u001b[1;34m(y_true, y_pred, sample_weight, multioutput, squared)\u001b[0m\n\u001b[0;32m    382\u001b[0m \u001b[38;5;28;01mdef\u001b[39;00m \u001b[38;5;21mmean_squared_error\u001b[39m(\n\u001b[0;32m    383\u001b[0m     y_true, y_pred, \u001b[38;5;241m*\u001b[39m, sample_weight\u001b[38;5;241m=\u001b[39m\u001b[38;5;28;01mNone\u001b[39;00m, multioutput\u001b[38;5;241m=\u001b[39m\u001b[38;5;124m\"\u001b[39m\u001b[38;5;124muniform_average\u001b[39m\u001b[38;5;124m\"\u001b[39m, squared\u001b[38;5;241m=\u001b[39m\u001b[38;5;28;01mTrue\u001b[39;00m\n\u001b[0;32m    384\u001b[0m ):\n\u001b[0;32m    385\u001b[0m \u001b[38;5;250m    \u001b[39m\u001b[38;5;124;03m\"\"\"Mean squared error regression loss.\u001b[39;00m\n\u001b[0;32m    386\u001b[0m \n\u001b[0;32m    387\u001b[0m \u001b[38;5;124;03m    Read more in the :ref:`User Guide <mean_squared_error>`.\u001b[39;00m\n\u001b[1;32m   (...)\u001b[0m\n\u001b[0;32m    440\u001b[0m \u001b[38;5;124;03m    0.825...\u001b[39;00m\n\u001b[0;32m    441\u001b[0m \u001b[38;5;124;03m    \"\"\"\u001b[39;00m\n\u001b[1;32m--> 442\u001b[0m     y_type, y_true, y_pred, multioutput \u001b[38;5;241m=\u001b[39m _check_reg_targets(\n\u001b[0;32m    443\u001b[0m         y_true, y_pred, multioutput\n\u001b[0;32m    444\u001b[0m     )\n\u001b[0;32m    445\u001b[0m     check_consistent_length(y_true, y_pred, sample_weight)\n\u001b[0;32m    446\u001b[0m     output_errors \u001b[38;5;241m=\u001b[39m np\u001b[38;5;241m.\u001b[39maverage((y_true \u001b[38;5;241m-\u001b[39m y_pred) \u001b[38;5;241m*\u001b[39m\u001b[38;5;241m*\u001b[39m \u001b[38;5;241m2\u001b[39m, axis\u001b[38;5;241m=\u001b[39m\u001b[38;5;241m0\u001b[39m, weights\u001b[38;5;241m=\u001b[39msample_weight)\n",
      "File \u001b[1;32m~\\anaconda3\\Lib\\site-packages\\sklearn\\metrics\\_regression.py:100\u001b[0m, in \u001b[0;36m_check_reg_targets\u001b[1;34m(y_true, y_pred, multioutput, dtype)\u001b[0m\n\u001b[0;32m     66\u001b[0m \u001b[38;5;28;01mdef\u001b[39;00m \u001b[38;5;21m_check_reg_targets\u001b[39m(y_true, y_pred, multioutput, dtype\u001b[38;5;241m=\u001b[39m\u001b[38;5;124m\"\u001b[39m\u001b[38;5;124mnumeric\u001b[39m\u001b[38;5;124m\"\u001b[39m):\n\u001b[0;32m     67\u001b[0m \u001b[38;5;250m    \u001b[39m\u001b[38;5;124;03m\"\"\"Check that y_true and y_pred belong to the same regression task.\u001b[39;00m\n\u001b[0;32m     68\u001b[0m \n\u001b[0;32m     69\u001b[0m \u001b[38;5;124;03m    Parameters\u001b[39;00m\n\u001b[1;32m   (...)\u001b[0m\n\u001b[0;32m     98\u001b[0m \u001b[38;5;124;03m        correct keyword.\u001b[39;00m\n\u001b[0;32m     99\u001b[0m \u001b[38;5;124;03m    \"\"\"\u001b[39;00m\n\u001b[1;32m--> 100\u001b[0m     check_consistent_length(y_true, y_pred)\n\u001b[0;32m    101\u001b[0m     y_true \u001b[38;5;241m=\u001b[39m check_array(y_true, ensure_2d\u001b[38;5;241m=\u001b[39m\u001b[38;5;28;01mFalse\u001b[39;00m, dtype\u001b[38;5;241m=\u001b[39mdtype)\n\u001b[0;32m    102\u001b[0m     y_pred \u001b[38;5;241m=\u001b[39m check_array(y_pred, ensure_2d\u001b[38;5;241m=\u001b[39m\u001b[38;5;28;01mFalse\u001b[39;00m, dtype\u001b[38;5;241m=\u001b[39mdtype)\n",
      "File \u001b[1;32m~\\anaconda3\\Lib\\site-packages\\sklearn\\utils\\validation.py:397\u001b[0m, in \u001b[0;36mcheck_consistent_length\u001b[1;34m(*arrays)\u001b[0m\n\u001b[0;32m    395\u001b[0m uniques \u001b[38;5;241m=\u001b[39m np\u001b[38;5;241m.\u001b[39munique(lengths)\n\u001b[0;32m    396\u001b[0m \u001b[38;5;28;01mif\u001b[39;00m \u001b[38;5;28mlen\u001b[39m(uniques) \u001b[38;5;241m>\u001b[39m \u001b[38;5;241m1\u001b[39m:\n\u001b[1;32m--> 397\u001b[0m     \u001b[38;5;28;01mraise\u001b[39;00m \u001b[38;5;167;01mValueError\u001b[39;00m(\n\u001b[0;32m    398\u001b[0m         \u001b[38;5;124m\"\u001b[39m\u001b[38;5;124mFound input variables with inconsistent numbers of samples: \u001b[39m\u001b[38;5;132;01m%r\u001b[39;00m\u001b[38;5;124m\"\u001b[39m\n\u001b[0;32m    399\u001b[0m         \u001b[38;5;241m%\u001b[39m [\u001b[38;5;28mint\u001b[39m(l) \u001b[38;5;28;01mfor\u001b[39;00m l \u001b[38;5;129;01min\u001b[39;00m lengths]\n\u001b[0;32m    400\u001b[0m     )\n",
      "\u001b[1;31mValueError\u001b[0m: Found input variables with inconsistent numbers of samples: [10806, 1]"
     ]
    }
   ],
   "source": [
    "# Code snippet for making predictions and evaluation\n",
    "train_predictions = model.predict(X_train)\n",
    "train_predictions = scaler.inverse_transform(train_predictions)\n",
    "mse = mean_squared_error(closing_prices[n_steps:], train_predictions)\n",
    "print(f'Mean Squared Error on Training Data: {mse}')"
   ]
  },
  {
   "cell_type": "code",
   "execution_count": 21,
   "id": "9cecdc36-ad38-4696-9d84-11508780e075",
   "metadata": {
    "tags": []
   },
   "outputs": [
    {
     "ename": "ValueError",
     "evalue": "x and y must have same first dimension, but have shapes (10806,) and (1, 1)",
     "output_type": "error",
     "traceback": [
      "\u001b[1;31m---------------------------------------------------------------------------\u001b[0m",
      "\u001b[1;31mValueError\u001b[0m                                Traceback (most recent call last)",
      "Cell \u001b[1;32mIn[21], line 4\u001b[0m\n\u001b[0;32m      2\u001b[0m plt\u001b[38;5;241m.\u001b[39mfigure(figsize \u001b[38;5;241m=\u001b[39m(\u001b[38;5;241m12\u001b[39m,\u001b[38;5;241m6\u001b[39m))\n\u001b[0;32m      3\u001b[0m plt\u001b[38;5;241m.\u001b[39mplot(stock_data\u001b[38;5;241m.\u001b[39mindex[n_steps:], closing_prices[n_steps:], label \u001b[38;5;241m=\u001b[39m \u001b[38;5;124m'\u001b[39m\u001b[38;5;124mActual Prices\u001b[39m\u001b[38;5;124m'\u001b[39m, color \u001b[38;5;241m=\u001b[39m \u001b[38;5;124m'\u001b[39m\u001b[38;5;124mblue\u001b[39m\u001b[38;5;124m'\u001b[39m)\n\u001b[1;32m----> 4\u001b[0m plt\u001b[38;5;241m.\u001b[39mplot(stock_data\u001b[38;5;241m.\u001b[39mindex[n_steps:], train_predictions, label \u001b[38;5;241m=\u001b[39m \u001b[38;5;124m'\u001b[39m\u001b[38;5;124mPredictions Prices\u001b[39m\u001b[38;5;124m'\u001b[39m, color \u001b[38;5;241m=\u001b[39m \u001b[38;5;124m'\u001b[39m\u001b[38;5;124mred\u001b[39m\u001b[38;5;124m'\u001b[39m)\n\u001b[0;32m      5\u001b[0m plt\u001b[38;5;241m.\u001b[39mtitle(\u001b[38;5;124mf\u001b[39m\u001b[38;5;124m'\u001b[39m\u001b[38;5;132;01m{\u001b[39;00mstock_symbol\u001b[38;5;132;01m}\u001b[39;00m\u001b[38;5;124m Stock Price Prediction using LSTM\u001b[39m\u001b[38;5;124m'\u001b[39m)\n\u001b[0;32m      6\u001b[0m plt\u001b[38;5;241m.\u001b[39mxlabel(\u001b[38;5;124m'\u001b[39m\u001b[38;5;124mDate\u001b[39m\u001b[38;5;124m'\u001b[39m)\n",
      "File \u001b[1;32m~\\anaconda3\\Lib\\site-packages\\matplotlib\\pyplot.py:2812\u001b[0m, in \u001b[0;36mplot\u001b[1;34m(scalex, scaley, data, *args, **kwargs)\u001b[0m\n\u001b[0;32m   2810\u001b[0m \u001b[38;5;129m@_copy_docstring_and_deprecators\u001b[39m(Axes\u001b[38;5;241m.\u001b[39mplot)\n\u001b[0;32m   2811\u001b[0m \u001b[38;5;28;01mdef\u001b[39;00m \u001b[38;5;21mplot\u001b[39m(\u001b[38;5;241m*\u001b[39margs, scalex\u001b[38;5;241m=\u001b[39m\u001b[38;5;28;01mTrue\u001b[39;00m, scaley\u001b[38;5;241m=\u001b[39m\u001b[38;5;28;01mTrue\u001b[39;00m, data\u001b[38;5;241m=\u001b[39m\u001b[38;5;28;01mNone\u001b[39;00m, \u001b[38;5;241m*\u001b[39m\u001b[38;5;241m*\u001b[39mkwargs):\n\u001b[1;32m-> 2812\u001b[0m     \u001b[38;5;28;01mreturn\u001b[39;00m gca()\u001b[38;5;241m.\u001b[39mplot(\n\u001b[0;32m   2813\u001b[0m         \u001b[38;5;241m*\u001b[39margs, scalex\u001b[38;5;241m=\u001b[39mscalex, scaley\u001b[38;5;241m=\u001b[39mscaley,\n\u001b[0;32m   2814\u001b[0m         \u001b[38;5;241m*\u001b[39m\u001b[38;5;241m*\u001b[39m({\u001b[38;5;124m\"\u001b[39m\u001b[38;5;124mdata\u001b[39m\u001b[38;5;124m\"\u001b[39m: data} \u001b[38;5;28;01mif\u001b[39;00m data \u001b[38;5;129;01mis\u001b[39;00m \u001b[38;5;129;01mnot\u001b[39;00m \u001b[38;5;28;01mNone\u001b[39;00m \u001b[38;5;28;01melse\u001b[39;00m {}), \u001b[38;5;241m*\u001b[39m\u001b[38;5;241m*\u001b[39mkwargs)\n",
      "File \u001b[1;32m~\\anaconda3\\Lib\\site-packages\\matplotlib\\axes\\_axes.py:1688\u001b[0m, in \u001b[0;36mAxes.plot\u001b[1;34m(self, scalex, scaley, data, *args, **kwargs)\u001b[0m\n\u001b[0;32m   1445\u001b[0m \u001b[38;5;250m\u001b[39m\u001b[38;5;124;03m\"\"\"\u001b[39;00m\n\u001b[0;32m   1446\u001b[0m \u001b[38;5;124;03mPlot y versus x as lines and/or markers.\u001b[39;00m\n\u001b[0;32m   1447\u001b[0m \n\u001b[1;32m   (...)\u001b[0m\n\u001b[0;32m   1685\u001b[0m \u001b[38;5;124;03m(``'green'``) or hex strings (``'#008000'``).\u001b[39;00m\n\u001b[0;32m   1686\u001b[0m \u001b[38;5;124;03m\"\"\"\u001b[39;00m\n\u001b[0;32m   1687\u001b[0m kwargs \u001b[38;5;241m=\u001b[39m cbook\u001b[38;5;241m.\u001b[39mnormalize_kwargs(kwargs, mlines\u001b[38;5;241m.\u001b[39mLine2D)\n\u001b[1;32m-> 1688\u001b[0m lines \u001b[38;5;241m=\u001b[39m [\u001b[38;5;241m*\u001b[39m\u001b[38;5;28mself\u001b[39m\u001b[38;5;241m.\u001b[39m_get_lines(\u001b[38;5;241m*\u001b[39margs, data\u001b[38;5;241m=\u001b[39mdata, \u001b[38;5;241m*\u001b[39m\u001b[38;5;241m*\u001b[39mkwargs)]\n\u001b[0;32m   1689\u001b[0m \u001b[38;5;28;01mfor\u001b[39;00m line \u001b[38;5;129;01min\u001b[39;00m lines:\n\u001b[0;32m   1690\u001b[0m     \u001b[38;5;28mself\u001b[39m\u001b[38;5;241m.\u001b[39madd_line(line)\n",
      "File \u001b[1;32m~\\anaconda3\\Lib\\site-packages\\matplotlib\\axes\\_base.py:311\u001b[0m, in \u001b[0;36m_process_plot_var_args.__call__\u001b[1;34m(self, data, *args, **kwargs)\u001b[0m\n\u001b[0;32m    309\u001b[0m     this \u001b[38;5;241m+\u001b[39m\u001b[38;5;241m=\u001b[39m args[\u001b[38;5;241m0\u001b[39m],\n\u001b[0;32m    310\u001b[0m     args \u001b[38;5;241m=\u001b[39m args[\u001b[38;5;241m1\u001b[39m:]\n\u001b[1;32m--> 311\u001b[0m \u001b[38;5;28;01myield from\u001b[39;00m \u001b[38;5;28mself\u001b[39m\u001b[38;5;241m.\u001b[39m_plot_args(\n\u001b[0;32m    312\u001b[0m     this, kwargs, ambiguous_fmt_datakey\u001b[38;5;241m=\u001b[39mambiguous_fmt_datakey)\n",
      "File \u001b[1;32m~\\anaconda3\\Lib\\site-packages\\matplotlib\\axes\\_base.py:504\u001b[0m, in \u001b[0;36m_process_plot_var_args._plot_args\u001b[1;34m(self, tup, kwargs, return_kwargs, ambiguous_fmt_datakey)\u001b[0m\n\u001b[0;32m    501\u001b[0m     \u001b[38;5;28mself\u001b[39m\u001b[38;5;241m.\u001b[39maxes\u001b[38;5;241m.\u001b[39myaxis\u001b[38;5;241m.\u001b[39mupdate_units(y)\n\u001b[0;32m    503\u001b[0m \u001b[38;5;28;01mif\u001b[39;00m x\u001b[38;5;241m.\u001b[39mshape[\u001b[38;5;241m0\u001b[39m] \u001b[38;5;241m!=\u001b[39m y\u001b[38;5;241m.\u001b[39mshape[\u001b[38;5;241m0\u001b[39m]:\n\u001b[1;32m--> 504\u001b[0m     \u001b[38;5;28;01mraise\u001b[39;00m \u001b[38;5;167;01mValueError\u001b[39;00m(\u001b[38;5;124mf\u001b[39m\u001b[38;5;124m\"\u001b[39m\u001b[38;5;124mx and y must have same first dimension, but \u001b[39m\u001b[38;5;124m\"\u001b[39m\n\u001b[0;32m    505\u001b[0m                      \u001b[38;5;124mf\u001b[39m\u001b[38;5;124m\"\u001b[39m\u001b[38;5;124mhave shapes \u001b[39m\u001b[38;5;132;01m{\u001b[39;00mx\u001b[38;5;241m.\u001b[39mshape\u001b[38;5;132;01m}\u001b[39;00m\u001b[38;5;124m and \u001b[39m\u001b[38;5;132;01m{\u001b[39;00my\u001b[38;5;241m.\u001b[39mshape\u001b[38;5;132;01m}\u001b[39;00m\u001b[38;5;124m\"\u001b[39m)\n\u001b[0;32m    506\u001b[0m \u001b[38;5;28;01mif\u001b[39;00m x\u001b[38;5;241m.\u001b[39mndim \u001b[38;5;241m>\u001b[39m \u001b[38;5;241m2\u001b[39m \u001b[38;5;129;01mor\u001b[39;00m y\u001b[38;5;241m.\u001b[39mndim \u001b[38;5;241m>\u001b[39m \u001b[38;5;241m2\u001b[39m:\n\u001b[0;32m    507\u001b[0m     \u001b[38;5;28;01mraise\u001b[39;00m \u001b[38;5;167;01mValueError\u001b[39;00m(\u001b[38;5;124mf\u001b[39m\u001b[38;5;124m\"\u001b[39m\u001b[38;5;124mx and y can be no greater than 2D, but have \u001b[39m\u001b[38;5;124m\"\u001b[39m\n\u001b[0;32m    508\u001b[0m                      \u001b[38;5;124mf\u001b[39m\u001b[38;5;124m\"\u001b[39m\u001b[38;5;124mshapes \u001b[39m\u001b[38;5;132;01m{\u001b[39;00mx\u001b[38;5;241m.\u001b[39mshape\u001b[38;5;132;01m}\u001b[39;00m\u001b[38;5;124m and \u001b[39m\u001b[38;5;132;01m{\u001b[39;00my\u001b[38;5;241m.\u001b[39mshape\u001b[38;5;132;01m}\u001b[39;00m\u001b[38;5;124m\"\u001b[39m)\n",
      "\u001b[1;31mValueError\u001b[0m: x and y must have same first dimension, but have shapes (10806,) and (1, 1)"
     ]
    },
    {
     "data": {
      "image/png": "[encoded data removed]",
      "text/plain": [
       "<Figure size 1200x600 with 1 Axes>"
      ]
     },
     "metadata": {},
     "output_type": "display_data"
    }
   ],
   "source": [
    "import matplotlib.pyplot as plt\n",
    "plt.figure(figsize =(12,6))\n",
    "plt.plot(stock_data.index[n_steps:], closing_prices[n_steps:], label = 'Actual Prices', color = 'blue')\n",
    "plt.plot(stock_data.index[n_steps:], train_predictions, label = 'Predictions Prices', color = 'red')\n",
    "plt.title(f'{stock_symbol} Stock Price Prediction using LSTM')\n",
    "plt.xlabel('Date')\n",
    "plt.ylabel('Stock Price(USD)')\n",
    "plt.legend()\n",
    "plt.show()"
   ]
  },
  {
   "cell_type": "code",
   "execution_count": null,
   "id": "8e2a9003-1f8d-48a3-950c-6033e80e9bb0",
   "metadata": {},
   "outputs": [],
   "source": []
  }
 ],
 "metadata": {
  "kernelspec": {
   "display_name": "Python 3 (ipykernel)",
   "language": "python",
   "name": "python3"
  },
  "language_info": {
   "codemirror_mode": {
    "name": "ipython",
    "version": 3
   },
   "file_extension": ".py",
   "mimetype": "text/x-python",
   "name": "python",
   "nbconvert_exporter": "python",
   "pygments_lexer": "ipython3",
   "version": "3.11.4"
  }
 },
 "nbformat": 4,
 "nbformat_minor": 5
}
